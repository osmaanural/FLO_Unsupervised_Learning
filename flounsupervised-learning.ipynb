{
 "cells": [
  {
   "cell_type": "code",
   "execution_count": 1,
   "id": "0f6541ea",
   "metadata": {
    "_cell_guid": "b1076dfc-b9ad-4769-8c92-a6c4dae69d19",
    "_uuid": "8f2839f25d086af736a60e9eeb907d3b93b6e0e5",
    "execution": {
     "iopub.execute_input": "2024-10-28T18:26:14.901863Z",
     "iopub.status.busy": "2024-10-28T18:26:14.900903Z",
     "iopub.status.idle": "2024-10-28T18:26:15.879193Z",
     "shell.execute_reply": "2024-10-28T18:26:15.877621Z"
    },
    "papermill": {
     "duration": 0.991465,
     "end_time": "2024-10-28T18:26:15.881735",
     "exception": false,
     "start_time": "2024-10-28T18:26:14.890270",
     "status": "completed"
    },
    "tags": []
   },
   "outputs": [
    {
     "name": "stdout",
     "output_type": "stream",
     "text": [
      "/kaggle/input/flo-dataset/flo_data.csv\n"
     ]
    }
   ],
   "source": [
    "# This Python 3 environment comes with many helpful analytics libraries installed\n",
    "# It is defined by the kaggle/python Docker image: https://github.com/kaggle/docker-python\n",
    "# For example, here's several helpful packages to load\n",
    "\n",
    "import numpy as np # linear algebra\n",
    "import pandas as pd # data processing, CSV file I/O (e.g. pd.read_csv)\n",
    "\n",
    "# Input data files are available in the read-only \"../input/\" directory\n",
    "# For example, running this (by clicking run or pressing Shift+Enter) will list all files under the input directory\n",
    "\n",
    "import os\n",
    "for dirname, _, filenames in os.walk('/kaggle/input'):\n",
    "    for filename in filenames:\n",
    "        print(os.path.join(dirname, filename))\n",
    "\n",
    "# You can write up to 20GB to the current directory (/kaggle/working/) that gets preserved as output when you create a version using \"Save & Run All\" \n",
    "# You can also write temporary files to /kaggle/temp/, but they won't be saved outside of the current session"
   ]
  },
  {
   "cell_type": "code",
   "execution_count": 2,
   "id": "e25220ae",
   "metadata": {
    "execution": {
     "iopub.execute_input": "2024-10-28T18:26:15.900847Z",
     "iopub.status.busy": "2024-10-28T18:26:15.899770Z",
     "iopub.status.idle": "2024-10-28T18:26:18.495038Z",
     "shell.execute_reply": "2024-10-28T18:26:18.493786Z"
    },
    "papermill": {
     "duration": 2.607468,
     "end_time": "2024-10-28T18:26:18.497648",
     "exception": false,
     "start_time": "2024-10-28T18:26:15.890180",
     "status": "completed"
    },
    "tags": []
   },
   "outputs": [],
   "source": [
    "import warnings\n",
    "import numpy as np\n",
    "import pandas as pd\n",
    "import seaborn as sns\n",
    "import random\n",
    "import matplotlib.pyplot as plt\n",
    "from sklearn.cluster import KMeans\n",
    "from sklearn.preprocessing import MinMaxScaler\n",
    "from yellowbrick.cluster import KElbowVisualizer\n",
    "from scipy.cluster.hierarchy import linkage\n",
    "from scipy.cluster.hierarchy import dendrogram\n",
    "from sklearn.preprocessing import StandardScaler\n",
    "from sklearn.decomposition import PCA\n",
    "from sklearn.model_selection import cross_val_score, GridSearchCV\n",
    "from sklearn.preprocessing import LabelEncoder\n",
    "import datetime as dt"
   ]
  },
  {
   "cell_type": "code",
   "execution_count": 3,
   "id": "062d07d5",
   "metadata": {
    "execution": {
     "iopub.execute_input": "2024-10-28T18:26:18.516987Z",
     "iopub.status.busy": "2024-10-28T18:26:18.515844Z",
     "iopub.status.idle": "2024-10-28T18:26:18.624295Z",
     "shell.execute_reply": "2024-10-28T18:26:18.623151Z"
    },
    "papermill": {
     "duration": 0.120663,
     "end_time": "2024-10-28T18:26:18.627132",
     "exception": false,
     "start_time": "2024-10-28T18:26:18.506469",
     "status": "completed"
    },
    "tags": []
   },
   "outputs": [],
   "source": [
    "df=pd.read_csv(\"/kaggle/input/flo-dataset/flo_data.csv\")\n",
    "warnings.simplefilter(action='ignore', category=Warning)"
   ]
  },
  {
   "cell_type": "code",
   "execution_count": 4,
   "id": "6f2d8994",
   "metadata": {
    "execution": {
     "iopub.execute_input": "2024-10-28T18:26:18.646917Z",
     "iopub.status.busy": "2024-10-28T18:26:18.646463Z",
     "iopub.status.idle": "2024-10-28T18:26:18.660892Z",
     "shell.execute_reply": "2024-10-28T18:26:18.659676Z"
    },
    "papermill": {
     "duration": 0.026501,
     "end_time": "2024-10-28T18:26:18.663094",
     "exception": false,
     "start_time": "2024-10-28T18:26:18.636593",
     "status": "completed"
    },
    "tags": []
   },
   "outputs": [],
   "source": [
    "\n",
    "def check_df(dataframe, head=5):\n",
    "    print(\"##################### Shape #####################\")\n",
    "    print(dataframe.shape)\n",
    "    print(\"##################### Types #####################\")\n",
    "    print(dataframe.dtypes)\n",
    "    print(\"##################### Head #####################\")\n",
    "    print(dataframe.head(head))\n",
    "    print(\"##################### Tail #####################\")\n",
    "    print(dataframe.tail(head))\n",
    "    print(\"##################### NA #####################\")\n",
    "    print(dataframe.isnull().sum())\n",
    "    #print(\"##################### Quantiles #####################\")\n",
    "    #print(dataframe.quantile([0, 0.05, 0.50, 0.95, 0.99, 1]).T)\n",
    "\n",
    "def cat_summary(dataframe, col_name, plot=False):\n",
    "    print(pd.DataFrame({col_name: dataframe[col_name].value_counts(),\n",
    "                        \"Ratio\": 100 * dataframe[col_name].value_counts() / len(dataframe)}))\n",
    "    print(\"##########################################\")\n",
    "    if plot:\n",
    "        sns.countplot(x=dataframe[col_name], data=dataframe)\n",
    "        plt.show(block=True)\n",
    "\n",
    "def num_summary(dataframe, numerical_col, plot=False):\n",
    "    quantiles = [0.05, 0.10, 0.20, 0.30, 0.40, 0.50, 0.60, 0.70, 0.80, 0.90, 0.95, 0.99]\n",
    "    print(dataframe[numerical_col].describe(quantiles).T)\n",
    "\n",
    "    if plot:\n",
    "        dataframe[numerical_col].hist(bins=20)\n",
    "        plt.xlabel(numerical_col)\n",
    "        plt.title(numerical_col)\n",
    "        plt.show(block=True)\n",
    "\n",
    "def target_summary_with_num(dataframe, target, numerical_col):\n",
    "    print(dataframe.groupby(target).agg({numerical_col: \"mean\"}), end=\"\\n\\n\\n\")\n",
    "\n",
    "def target_summary_with_cat(dataframe, target, categorical_col):\n",
    "    print(pd.DataFrame({\"TARGET_MEAN\": dataframe.groupby(categorical_col)[target].mean()}), end=\"\\n\\n\\n\")\n",
    "    \n",
    "def correlation_matrix(df, cols):\n",
    "    fig = plt.gcf()\n",
    "    fig.set_size_inches(10, 8)\n",
    "    plt.xticks(fontsize=10)\n",
    "    plt.yticks(fontsize=10)\n",
    "    fig = sns.heatmap(df[cols].corr(), annot=True, linewidths=0.5, annot_kws={'size': 12}, linecolor='w', cmap='RdBu')\n",
    "    plt.show(block=True)"
   ]
  },
  {
   "cell_type": "code",
   "execution_count": 5,
   "id": "a7212009",
   "metadata": {
    "execution": {
     "iopub.execute_input": "2024-10-28T18:26:18.681966Z",
     "iopub.status.busy": "2024-10-28T18:26:18.681527Z",
     "iopub.status.idle": "2024-10-28T18:26:18.715778Z",
     "shell.execute_reply": "2024-10-28T18:26:18.714615Z"
    },
    "papermill": {
     "duration": 0.046428,
     "end_time": "2024-10-28T18:26:18.718735",
     "exception": false,
     "start_time": "2024-10-28T18:26:18.672307",
     "status": "completed"
    },
    "tags": []
   },
   "outputs": [
    {
     "name": "stdout",
     "output_type": "stream",
     "text": [
      "##################### Shape #####################\n",
      "(19945, 12)\n",
      "##################### Types #####################\n",
      "master_id                             object\n",
      "order_channel                         object\n",
      "last_order_channel                    object\n",
      "first_order_date                      object\n",
      "last_order_date                       object\n",
      "last_order_date_online                object\n",
      "last_order_date_offline               object\n",
      "order_num_total_ever_online          float64\n",
      "order_num_total_ever_offline         float64\n",
      "customer_value_total_ever_offline    float64\n",
      "customer_value_total_ever_online     float64\n",
      "interested_in_categories_12           object\n",
      "dtype: object\n",
      "##################### Head #####################\n",
      "                              master_id order_channel last_order_channel  \\\n",
      "0  cc294636-19f0-11eb-8d74-000d3a38a36f   Android App            Offline   \n",
      "1  f431bd5a-ab7b-11e9-a2fc-000d3a38a36f   Android App             Mobile   \n",
      "2  69b69676-1a40-11ea-941b-000d3a38a36f   Android App        Android App   \n",
      "3  1854e56c-491f-11eb-806e-000d3a38a36f   Android App        Android App   \n",
      "4  d6ea1074-f1f5-11e9-9346-000d3a38a36f       Desktop            Desktop   \n",
      "\n",
      "  first_order_date last_order_date last_order_date_online  \\\n",
      "0       2020-10-30      2021-02-26             2021-02-21   \n",
      "1       2017-02-08      2021-02-16             2021-02-16   \n",
      "2       2019-11-27      2020-11-27             2020-11-27   \n",
      "3       2021-01-06      2021-01-17             2021-01-17   \n",
      "4       2019-08-03      2021-03-07             2021-03-07   \n",
      "\n",
      "  last_order_date_offline  order_num_total_ever_online  \\\n",
      "0              2021-02-26                          4.0   \n",
      "1              2020-01-10                         19.0   \n",
      "2              2019-12-01                          3.0   \n",
      "3              2021-01-06                          1.0   \n",
      "4              2019-08-03                          1.0   \n",
      "\n",
      "   order_num_total_ever_offline  customer_value_total_ever_offline  \\\n",
      "0                           1.0                             139.99   \n",
      "1                           2.0                             159.97   \n",
      "2                           2.0                             189.97   \n",
      "3                           1.0                              39.99   \n",
      "4                           1.0                              49.99   \n",
      "\n",
      "   customer_value_total_ever_online       interested_in_categories_12  \n",
      "0                            799.38                           [KADIN]  \n",
      "1                           1853.58  [ERKEK, COCUK, KADIN, AKTIFSPOR]  \n",
      "2                            395.35                    [ERKEK, KADIN]  \n",
      "3                             81.98               [AKTIFCOCUK, COCUK]  \n",
      "4                            159.99                       [AKTIFSPOR]  \n",
      "##################### Tail #####################\n",
      "                                  master_id order_channel last_order_channel  \\\n",
      "19940  727e2b6e-ddd4-11e9-a848-000d3a38a36f   Android App            Offline   \n",
      "19941  25cd53d4-61bf-11ea-8dd8-000d3a38a36f       Desktop            Desktop   \n",
      "19942  8aea4c2a-d6fc-11e9-93bc-000d3a38a36f       Ios App            Ios App   \n",
      "19943  e50bb46c-ff30-11e9-a5e8-000d3a38a36f   Android App        Android App   \n",
      "19944  740998d2-b1f7-11e9-89fa-000d3a38a36f   Android App        Android App   \n",
      "\n",
      "      first_order_date last_order_date last_order_date_online  \\\n",
      "19940       2019-09-21      2020-07-05             2020-06-05   \n",
      "19941       2020-03-01      2020-12-22             2020-12-22   \n",
      "19942       2019-09-11      2021-05-24             2021-05-24   \n",
      "19943       2019-03-27      2021-02-13             2021-02-13   \n",
      "19944       2019-09-03      2020-06-06             2020-06-06   \n",
      "\n",
      "      last_order_date_offline  order_num_total_ever_online  \\\n",
      "19940              2020-07-05                          1.0   \n",
      "19941              2020-03-01                          1.0   \n",
      "19942              2019-09-11                          2.0   \n",
      "19943              2021-01-08                          1.0   \n",
      "19944              2019-09-03                          1.0   \n",
      "\n",
      "       order_num_total_ever_offline  customer_value_total_ever_offline  \\\n",
      "19940                           2.0                             289.98   \n",
      "19941                           1.0                             150.48   \n",
      "19942                           1.0                             139.98   \n",
      "19943                           5.0                             711.79   \n",
      "19944                           1.0                              39.99   \n",
      "\n",
      "       customer_value_total_ever_online interested_in_categories_12  \n",
      "19940                            111.98          [ERKEK, AKTIFSPOR]  \n",
      "19941                            239.99                 [AKTIFSPOR]  \n",
      "19942                            492.96                 [AKTIFSPOR]  \n",
      "19943                            297.98          [ERKEK, AKTIFSPOR]  \n",
      "19944                            221.98          [KADIN, AKTIFSPOR]  \n",
      "##################### NA #####################\n",
      "master_id                            0\n",
      "order_channel                        0\n",
      "last_order_channel                   0\n",
      "first_order_date                     0\n",
      "last_order_date                      0\n",
      "last_order_date_online               0\n",
      "last_order_date_offline              0\n",
      "order_num_total_ever_online          0\n",
      "order_num_total_ever_offline         0\n",
      "customer_value_total_ever_offline    0\n",
      "customer_value_total_ever_online     0\n",
      "interested_in_categories_12          0\n",
      "dtype: int64\n"
     ]
    }
   ],
   "source": [
    "check_df(df)"
   ]
  },
  {
   "cell_type": "code",
   "execution_count": 6,
   "id": "132d9991",
   "metadata": {
    "execution": {
     "iopub.execute_input": "2024-10-28T18:26:18.737279Z",
     "iopub.status.busy": "2024-10-28T18:26:18.736495Z",
     "iopub.status.idle": "2024-10-28T18:26:18.748883Z",
     "shell.execute_reply": "2024-10-28T18:26:18.747773Z"
    },
    "papermill": {
     "duration": 0.024258,
     "end_time": "2024-10-28T18:26:18.751282",
     "exception": false,
     "start_time": "2024-10-28T18:26:18.727024",
     "status": "completed"
    },
    "tags": []
   },
   "outputs": [],
   "source": [
    "df=df.drop(columns=\"master_id\")"
   ]
  },
  {
   "cell_type": "code",
   "execution_count": 7,
   "id": "c8852218",
   "metadata": {
    "execution": {
     "iopub.execute_input": "2024-10-28T18:26:18.769857Z",
     "iopub.status.busy": "2024-10-28T18:26:18.769439Z",
     "iopub.status.idle": "2024-10-28T18:26:18.779681Z",
     "shell.execute_reply": "2024-10-28T18:26:18.778712Z"
    },
    "papermill": {
     "duration": 0.022273,
     "end_time": "2024-10-28T18:26:18.781958",
     "exception": false,
     "start_time": "2024-10-28T18:26:18.759685",
     "status": "completed"
    },
    "tags": []
   },
   "outputs": [],
   "source": [
    "\n",
    "def grab_col_names(dataframe, cat_th=10, car_th=20):\n",
    "    \"\"\"\n",
    "\n",
    "    Veri setindeki kategorik, numerik ve kategorik fakat kardinal değişkenlerin isimlerini verir.\n",
    "    Not: Kategorik değişkenlerin içerisine numerik görünümlü kategorik değişkenler de dahildir.\n",
    "\n",
    "    Parameters\n",
    "    ------\n",
    "        dataframe: dataframe\n",
    "                Değişken isimleri alınmak istenilen dataframe\n",
    "        cat_th: int, optional\n",
    "                numerik fakat kategorik olan değişkenler için sınıf eşik değeri\n",
    "        car_th: int, optinal\n",
    "                kategorik fakat kardinal değişkenler için sınıf eşik değeri\n",
    "\n",
    "    Returns\n",
    "    ------\n",
    "        cat_cols: list\n",
    "                Kategorik değişken listesi\n",
    "        num_cols: list\n",
    "                Numerik değişken listesi\n",
    "        cat_but_car: list\n",
    "                Kategorik görünümlü kardinal değişken listesi\n",
    "\n",
    "    Examples\n",
    "    ------\n",
    "        import seaborn as sns\n",
    "        df = sns.load_dataset(\"iris\")\n",
    "        print(grab_col_names(df))\n",
    "\n",
    "\n",
    "    Notes\n",
    "    ------\n",
    "        cat_cols + num_cols + cat_but_car = toplam değişken sayısı\n",
    "        num_but_cat cat_cols'un içerisinde.\n",
    "        Return olan 3 liste toplamı toplam değişken sayısına eşittir: cat_cols + num_cols + cat_but_car = değişken sayısı\n",
    "\n",
    "    \"\"\"\n",
    "\n",
    "    # cat_cols, cat_but_car\n",
    "    cat_cols = [col for col in dataframe.columns if dataframe[col].dtypes == \"O\"]\n",
    "    num_but_cat = [col for col in dataframe.columns if dataframe[col].nunique() < cat_th and\n",
    "                   dataframe[col].dtypes != \"O\"]\n",
    "    cat_but_car = [col for col in dataframe.columns if dataframe[col].nunique() > car_th and\n",
    "                   dataframe[col].dtypes == \"O\"]\n",
    "    cat_cols = cat_cols + num_but_cat\n",
    "    cat_cols = [col for col in cat_cols if col not in cat_but_car]\n",
    "\n",
    "    # num_cols\n",
    "    num_cols = [col for col in dataframe.columns if dataframe[col].dtypes != \"O\"]\n",
    "    num_cols = [col for col in num_cols if col not in num_but_cat]\n",
    "\n",
    "    print(f\"Observations: {dataframe.shape[0]}\")\n",
    "    print(f\"Variables: {dataframe.shape[1]}\")\n",
    "    print(f'cat_cols: {len(cat_cols)}')\n",
    "    print(f'num_cols: {len(num_cols)}')\n",
    "    print(f'cat_but_car: {len(cat_but_car)}')\n",
    "    print(f'num_but_cat: {len(num_but_cat)}')\n",
    "    return cat_cols, num_cols, cat_but_car"
   ]
  },
  {
   "cell_type": "code",
   "execution_count": 8,
   "id": "e3c1f022",
   "metadata": {
    "execution": {
     "iopub.execute_input": "2024-10-28T18:26:18.800482Z",
     "iopub.status.busy": "2024-10-28T18:26:18.800063Z",
     "iopub.status.idle": "2024-10-28T18:26:18.836449Z",
     "shell.execute_reply": "2024-10-28T18:26:18.835192Z"
    },
    "papermill": {
     "duration": 0.048779,
     "end_time": "2024-10-28T18:26:18.839076",
     "exception": false,
     "start_time": "2024-10-28T18:26:18.790297",
     "status": "completed"
    },
    "tags": []
   },
   "outputs": [
    {
     "name": "stdout",
     "output_type": "stream",
     "text": [
      "Observations: 19945\n",
      "Variables: 11\n",
      "cat_cols: 2\n",
      "num_cols: 4\n",
      "cat_but_car: 5\n",
      "num_but_cat: 0\n",
      "['order_channel', 'last_order_channel']\n",
      "['order_num_total_ever_online', 'order_num_total_ever_offline', 'customer_value_total_ever_offline', 'customer_value_total_ever_online']\n",
      "['first_order_date', 'last_order_date', 'last_order_date_online', 'last_order_date_offline', 'interested_in_categories_12']\n"
     ]
    }
   ],
   "source": [
    "cat_cols, num_cols, cat_but_car = grab_col_names(df, cat_th=5, car_th=20)\n",
    "print(cat_cols)\n",
    "print(num_cols)\n",
    "print(cat_but_car)"
   ]
  },
  {
   "cell_type": "code",
   "execution_count": 9,
   "id": "4c9a1086",
   "metadata": {
    "execution": {
     "iopub.execute_input": "2024-10-28T18:26:18.857363Z",
     "iopub.status.busy": "2024-10-28T18:26:18.856963Z",
     "iopub.status.idle": "2024-10-28T18:26:18.877707Z",
     "shell.execute_reply": "2024-10-28T18:26:18.876648Z"
    },
    "papermill": {
     "duration": 0.032621,
     "end_time": "2024-10-28T18:26:18.879864",
     "exception": false,
     "start_time": "2024-10-28T18:26:18.847243",
     "status": "completed"
    },
    "tags": []
   },
   "outputs": [
    {
     "name": "stdout",
     "output_type": "stream",
     "text": [
      "               order_channel      Ratio\n",
      "order_channel                          \n",
      "Android App             9495  47.605916\n",
      "Mobile                  4882  24.477313\n",
      "Ios App                 2833  14.204061\n",
      "Desktop                 2735  13.712710\n",
      "##########################################\n",
      "                    last_order_channel      Ratio\n",
      "last_order_channel                               \n",
      "Android App                       6783  34.008523\n",
      "Offline                           6608  33.131111\n",
      "Mobile                            3172  15.903735\n",
      "Ios App                           1696   8.503384\n",
      "Desktop                           1686   8.453246\n",
      "##########################################\n"
     ]
    }
   ],
   "source": [
    "for col in cat_cols:\n",
    "    cat_summary(df, col)"
   ]
  },
  {
   "cell_type": "code",
   "execution_count": 10,
   "id": "cbe7ddd9",
   "metadata": {
    "execution": {
     "iopub.execute_input": "2024-10-28T18:26:18.898686Z",
     "iopub.status.busy": "2024-10-28T18:26:18.898235Z",
     "iopub.status.idle": "2024-10-28T18:26:19.361157Z",
     "shell.execute_reply": "2024-10-28T18:26:19.360052Z"
    },
    "papermill": {
     "duration": 0.475162,
     "end_time": "2024-10-28T18:26:19.363499",
     "exception": false,
     "start_time": "2024-10-28T18:26:18.888337",
     "status": "completed"
    },
    "tags": []
   },
   "outputs": [
    {
     "data": {
      "image/png": "[encoded data removed]",
      "text/plain": [
       "<Figure size 1000x800 with 2 Axes>"
      ]
     },
     "metadata": {},
     "output_type": "display_data"
    }
   ],
   "source": [
    "correlation_matrix(df,num_cols)\n"
   ]
  },
  {
   "cell_type": "code",
   "execution_count": 11,
   "id": "8a567603",
   "metadata": {
    "execution": {
     "iopub.execute_input": "2024-10-28T18:26:19.384308Z",
     "iopub.status.busy": "2024-10-28T18:26:19.383389Z",
     "iopub.status.idle": "2024-10-28T18:26:19.439619Z",
     "shell.execute_reply": "2024-10-28T18:26:19.438482Z"
    },
    "papermill": {
     "duration": 0.06945,
     "end_time": "2024-10-28T18:26:19.442355",
     "exception": false,
     "start_time": "2024-10-28T18:26:19.372905",
     "status": "completed"
    },
    "tags": []
   },
   "outputs": [
    {
     "name": "stdout",
     "output_type": "stream",
     "text": [
      "<class 'pandas.core.frame.DataFrame'>\n",
      "RangeIndex: 19945 entries, 0 to 19944\n",
      "Data columns (total 11 columns):\n",
      " #   Column                             Non-Null Count  Dtype         \n",
      "---  ------                             --------------  -----         \n",
      " 0   order_channel                      19945 non-null  object        \n",
      " 1   last_order_channel                 19945 non-null  object        \n",
      " 2   first_order_date                   19945 non-null  datetime64[ns]\n",
      " 3   last_order_date                    19945 non-null  datetime64[ns]\n",
      " 4   last_order_date_online             19945 non-null  datetime64[ns]\n",
      " 5   last_order_date_offline            19945 non-null  datetime64[ns]\n",
      " 6   order_num_total_ever_online        19945 non-null  float64       \n",
      " 7   order_num_total_ever_offline       19945 non-null  float64       \n",
      " 8   customer_value_total_ever_offline  19945 non-null  float64       \n",
      " 9   customer_value_total_ever_online   19945 non-null  float64       \n",
      " 10  interested_in_categories_12        19945 non-null  object        \n",
      "dtypes: datetime64[ns](4), float64(4), object(3)\n",
      "memory usage: 1.7+ MB\n"
     ]
    }
   ],
   "source": [
    "for i in df.columns:\n",
    "    if \"date\" in i:\n",
    "        df[i]=pd.to_datetime(df[i])\n",
    "\n",
    "\n",
    "df.info()"
   ]
  },
  {
   "cell_type": "code",
   "execution_count": 12,
   "id": "8010f256",
   "metadata": {
    "execution": {
     "iopub.execute_input": "2024-10-28T18:26:19.466226Z",
     "iopub.status.busy": "2024-10-28T18:26:19.465277Z",
     "iopub.status.idle": "2024-10-28T18:26:19.472196Z",
     "shell.execute_reply": "2024-10-28T18:26:19.470770Z"
    },
    "papermill": {
     "duration": 0.022521,
     "end_time": "2024-10-28T18:26:19.474362",
     "exception": false,
     "start_time": "2024-10-28T18:26:19.451841",
     "status": "completed"
    },
    "tags": []
   },
   "outputs": [
    {
     "name": "stdout",
     "output_type": "stream",
     "text": [
      "2021-05-30 00:00:00\n"
     ]
    }
   ],
   "source": [
    "print(df[\"last_order_date\"].max())\n",
    "today_date=dt.datetime(2021,6,1)"
   ]
  },
  {
   "cell_type": "code",
   "execution_count": 13,
   "id": "67ec6285",
   "metadata": {
    "execution": {
     "iopub.execute_input": "2024-10-28T18:26:19.495108Z",
     "iopub.status.busy": "2024-10-28T18:26:19.494696Z",
     "iopub.status.idle": "2024-10-28T18:26:19.504841Z",
     "shell.execute_reply": "2024-10-28T18:26:19.503627Z"
    },
    "papermill": {
     "duration": 0.023946,
     "end_time": "2024-10-28T18:26:19.507939",
     "exception": false,
     "start_time": "2024-10-28T18:26:19.483993",
     "status": "completed"
    },
    "tags": []
   },
   "outputs": [],
   "source": [
    "df[\"Tenure\"]=(today_date-df[\"first_order_date\"]).dt.days # Müşterinin Yaşı\n",
    "df[\"ShoppingDays\"]=(today_date-df[\"last_order_date\"]).dt.days # Kaç gün önce alışveriş yapmış."
   ]
  },
  {
   "cell_type": "code",
   "execution_count": 14,
   "id": "9058a376",
   "metadata": {
    "execution": {
     "iopub.execute_input": "2024-10-28T18:26:19.529441Z",
     "iopub.status.busy": "2024-10-28T18:26:19.529007Z",
     "iopub.status.idle": "2024-10-28T18:26:19.553584Z",
     "shell.execute_reply": "2024-10-28T18:26:19.552330Z"
    },
    "papermill": {
     "duration": 0.038557,
     "end_time": "2024-10-28T18:26:19.556252",
     "exception": false,
     "start_time": "2024-10-28T18:26:19.517695",
     "status": "completed"
    },
    "tags": []
   },
   "outputs": [
    {
     "name": "stdout",
     "output_type": "stream",
     "text": [
      "Observations: 19945\n",
      "Variables: 13\n",
      "cat_cols: 2\n",
      "num_cols: 10\n",
      "cat_but_car: 1\n",
      "num_but_cat: 0\n",
      "Cat_cols ['order_channel', 'last_order_channel']\n",
      "Num_Cols ['first_order_date', 'last_order_date', 'last_order_date_online', 'last_order_date_offline', 'order_num_total_ever_online', 'order_num_total_ever_offline', 'customer_value_total_ever_offline', 'customer_value_total_ever_online', 'Tenure', 'ShoppingDays']\n",
      "Car_Cols ['interested_in_categories_12']\n"
     ]
    }
   ],
   "source": [
    "cat_cols, num_cols, cat_but_car = grab_col_names(df, cat_th=5, car_th=20)\n",
    "print(\"Cat_cols\",cat_cols)\n",
    "print(\"Num_Cols\",num_cols)\n",
    "print(\"Car_Cols\",cat_but_car)"
   ]
  },
  {
   "cell_type": "code",
   "execution_count": 15,
   "id": "62bc6a6b",
   "metadata": {
    "execution": {
     "iopub.execute_input": "2024-10-28T18:26:19.577928Z",
     "iopub.status.busy": "2024-10-28T18:26:19.577484Z",
     "iopub.status.idle": "2024-10-28T18:26:19.598721Z",
     "shell.execute_reply": "2024-10-28T18:26:19.597332Z"
    },
    "papermill": {
     "duration": 0.034774,
     "end_time": "2024-10-28T18:26:19.601031",
     "exception": false,
     "start_time": "2024-10-28T18:26:19.566257",
     "status": "completed"
    },
    "tags": []
   },
   "outputs": [
    {
     "data": {
      "text/html": [
       "<div>\n",
       "<style scoped>\n",
       "    .dataframe tbody tr th:only-of-type {\n",
       "        vertical-align: middle;\n",
       "    }\n",
       "\n",
       "    .dataframe tbody tr th {\n",
       "        vertical-align: top;\n",
       "    }\n",
       "\n",
       "    .dataframe thead th {\n",
       "        text-align: right;\n",
       "    }\n",
       "</style>\n",
       "<table border=\"1\" class=\"dataframe\">\n",
       "  <thead>\n",
       "    <tr style=\"text-align: right;\">\n",
       "      <th></th>\n",
       "      <th>order_channel</th>\n",
       "      <th>last_order_channel</th>\n",
       "      <th>first_order_date</th>\n",
       "      <th>last_order_date</th>\n",
       "      <th>last_order_date_online</th>\n",
       "      <th>last_order_date_offline</th>\n",
       "      <th>order_num_total_ever_online</th>\n",
       "      <th>order_num_total_ever_offline</th>\n",
       "      <th>customer_value_total_ever_offline</th>\n",
       "      <th>customer_value_total_ever_online</th>\n",
       "      <th>interested_in_categories_12</th>\n",
       "      <th>Tenure</th>\n",
       "      <th>ShoppingDays</th>\n",
       "    </tr>\n",
       "  </thead>\n",
       "  <tbody>\n",
       "    <tr>\n",
       "      <th>0</th>\n",
       "      <td>Android App</td>\n",
       "      <td>Offline</td>\n",
       "      <td>2020-10-30</td>\n",
       "      <td>2021-02-26</td>\n",
       "      <td>2021-02-21</td>\n",
       "      <td>2021-02-26</td>\n",
       "      <td>4.0</td>\n",
       "      <td>1.0</td>\n",
       "      <td>139.99</td>\n",
       "      <td>799.38</td>\n",
       "      <td>[KADIN]</td>\n",
       "      <td>214</td>\n",
       "      <td>95</td>\n",
       "    </tr>\n",
       "    <tr>\n",
       "      <th>1</th>\n",
       "      <td>Android App</td>\n",
       "      <td>Mobile</td>\n",
       "      <td>2017-02-08</td>\n",
       "      <td>2021-02-16</td>\n",
       "      <td>2021-02-16</td>\n",
       "      <td>2020-01-10</td>\n",
       "      <td>19.0</td>\n",
       "      <td>2.0</td>\n",
       "      <td>159.97</td>\n",
       "      <td>1853.58</td>\n",
       "      <td>[ERKEK, COCUK, KADIN, AKTIFSPOR]</td>\n",
       "      <td>1574</td>\n",
       "      <td>105</td>\n",
       "    </tr>\n",
       "    <tr>\n",
       "      <th>2</th>\n",
       "      <td>Android App</td>\n",
       "      <td>Android App</td>\n",
       "      <td>2019-11-27</td>\n",
       "      <td>2020-11-27</td>\n",
       "      <td>2020-11-27</td>\n",
       "      <td>2019-12-01</td>\n",
       "      <td>3.0</td>\n",
       "      <td>2.0</td>\n",
       "      <td>189.97</td>\n",
       "      <td>395.35</td>\n",
       "      <td>[ERKEK, KADIN]</td>\n",
       "      <td>552</td>\n",
       "      <td>186</td>\n",
       "    </tr>\n",
       "    <tr>\n",
       "      <th>3</th>\n",
       "      <td>Android App</td>\n",
       "      <td>Android App</td>\n",
       "      <td>2021-01-06</td>\n",
       "      <td>2021-01-17</td>\n",
       "      <td>2021-01-17</td>\n",
       "      <td>2021-01-06</td>\n",
       "      <td>1.0</td>\n",
       "      <td>1.0</td>\n",
       "      <td>39.99</td>\n",
       "      <td>81.98</td>\n",
       "      <td>[AKTIFCOCUK, COCUK]</td>\n",
       "      <td>146</td>\n",
       "      <td>135</td>\n",
       "    </tr>\n",
       "    <tr>\n",
       "      <th>4</th>\n",
       "      <td>Desktop</td>\n",
       "      <td>Desktop</td>\n",
       "      <td>2019-08-03</td>\n",
       "      <td>2021-03-07</td>\n",
       "      <td>2021-03-07</td>\n",
       "      <td>2019-08-03</td>\n",
       "      <td>1.0</td>\n",
       "      <td>1.0</td>\n",
       "      <td>49.99</td>\n",
       "      <td>159.99</td>\n",
       "      <td>[AKTIFSPOR]</td>\n",
       "      <td>668</td>\n",
       "      <td>86</td>\n",
       "    </tr>\n",
       "  </tbody>\n",
       "</table>\n",
       "</div>"
      ],
      "text/plain": [
       "  order_channel last_order_channel first_order_date last_order_date  \\\n",
       "0   Android App            Offline       2020-10-30      2021-02-26   \n",
       "1   Android App             Mobile       2017-02-08      2021-02-16   \n",
       "2   Android App        Android App       2019-11-27      2020-11-27   \n",
       "3   Android App        Android App       2021-01-06      2021-01-17   \n",
       "4       Desktop            Desktop       2019-08-03      2021-03-07   \n",
       "\n",
       "  last_order_date_online last_order_date_offline  order_num_total_ever_online  \\\n",
       "0             2021-02-21              2021-02-26                          4.0   \n",
       "1             2021-02-16              2020-01-10                         19.0   \n",
       "2             2020-11-27              2019-12-01                          3.0   \n",
       "3             2021-01-17              2021-01-06                          1.0   \n",
       "4             2021-03-07              2019-08-03                          1.0   \n",
       "\n",
       "   order_num_total_ever_offline  customer_value_total_ever_offline  \\\n",
       "0                           1.0                             139.99   \n",
       "1                           2.0                             159.97   \n",
       "2                           2.0                             189.97   \n",
       "3                           1.0                              39.99   \n",
       "4                           1.0                              49.99   \n",
       "\n",
       "   customer_value_total_ever_online       interested_in_categories_12  Tenure  \\\n",
       "0                            799.38                           [KADIN]     214   \n",
       "1                           1853.58  [ERKEK, COCUK, KADIN, AKTIFSPOR]    1574   \n",
       "2                            395.35                    [ERKEK, KADIN]     552   \n",
       "3                             81.98               [AKTIFCOCUK, COCUK]     146   \n",
       "4                            159.99                       [AKTIFSPOR]     668   \n",
       "\n",
       "   ShoppingDays  \n",
       "0            95  \n",
       "1           105  \n",
       "2           186  \n",
       "3           135  \n",
       "4            86  "
      ]
     },
     "execution_count": 15,
     "metadata": {},
     "output_type": "execute_result"
    }
   ],
   "source": [
    "df.head()"
   ]
  },
  {
   "cell_type": "markdown",
   "id": "f015adb4",
   "metadata": {
    "papermill": {
     "duration": 0.009762,
     "end_time": "2024-10-28T18:26:19.620795",
     "exception": false,
     "start_time": "2024-10-28T18:26:19.611033",
     "status": "completed"
    },
    "tags": []
   },
   "source": [
    "**Aykırı Değer Analizi**"
   ]
  },
  {
   "cell_type": "code",
   "execution_count": 16,
   "id": "f644f1d5",
   "metadata": {
    "execution": {
     "iopub.execute_input": "2024-10-28T18:26:19.643020Z",
     "iopub.status.busy": "2024-10-28T18:26:19.642561Z",
     "iopub.status.idle": "2024-10-28T18:26:19.651517Z",
     "shell.execute_reply": "2024-10-28T18:26:19.650424Z"
    },
    "papermill": {
     "duration": 0.0231,
     "end_time": "2024-10-28T18:26:19.653957",
     "exception": false,
     "start_time": "2024-10-28T18:26:19.630857",
     "status": "completed"
    },
    "tags": []
   },
   "outputs": [],
   "source": [
    "\n",
    "def outlier_thresholds(dataframe, col_name, q1=0.25, q3=0.75):\n",
    "    quartile1 = dataframe[col_name].quantile(q1)\n",
    "    quartile3 = dataframe[col_name].quantile(q3)\n",
    "    interquantile_range = quartile3 - quartile1\n",
    "    up_limit = quartile3 + 1.5 * interquantile_range\n",
    "    low_limit = quartile1 - 1.5 * interquantile_range\n",
    "    return low_limit, up_limit\n",
    "\n",
    "def replace_with_thresholds(dataframe, variable):\n",
    "    low_limit, up_limit = outlier_thresholds(dataframe, variable)\n",
    "    dataframe.loc[(dataframe[variable] < low_limit), variable] = low_limit\n",
    "    dataframe.loc[(dataframe[variable] > up_limit), variable] = up_limit\n",
    "\n",
    "def check_outlier(dataframe, col_name, q1=0.25, q3=0.75):\n",
    "    low_limit, up_limit = outlier_thresholds(dataframe, col_name, q1, q3)\n",
    "    if dataframe[(dataframe[col_name] > up_limit) | (dataframe[col_name] < low_limit)].any(axis=None):\n",
    "        return True\n",
    "    else:\n",
    "        return False"
   ]
  },
  {
   "cell_type": "code",
   "execution_count": 17,
   "id": "e431508b",
   "metadata": {
    "execution": {
     "iopub.execute_input": "2024-10-28T18:26:19.675700Z",
     "iopub.status.busy": "2024-10-28T18:26:19.675266Z",
     "iopub.status.idle": "2024-10-28T18:26:19.729706Z",
     "shell.execute_reply": "2024-10-28T18:26:19.728521Z"
    },
    "papermill": {
     "duration": 0.068394,
     "end_time": "2024-10-28T18:26:19.732238",
     "exception": false,
     "start_time": "2024-10-28T18:26:19.663844",
     "status": "completed"
    },
    "tags": []
   },
   "outputs": [
    {
     "name": "stdout",
     "output_type": "stream",
     "text": [
      "first_order_date True\n",
      "last_order_date False\n",
      "last_order_date_online True\n",
      "last_order_date_offline False\n",
      "order_num_total_ever_online True\n",
      "order_num_total_ever_offline True\n",
      "customer_value_total_ever_offline True\n",
      "customer_value_total_ever_online True\n",
      "Tenure True\n",
      "ShoppingDays False\n"
     ]
    }
   ],
   "source": [
    "for col in num_cols:\n",
    "    print(col, check_outlier(df, col))"
   ]
  },
  {
   "cell_type": "code",
   "execution_count": 18,
   "id": "4f5f29e0",
   "metadata": {
    "execution": {
     "iopub.execute_input": "2024-10-28T18:26:19.754506Z",
     "iopub.status.busy": "2024-10-28T18:26:19.753513Z",
     "iopub.status.idle": "2024-10-28T18:26:19.791785Z",
     "shell.execute_reply": "2024-10-28T18:26:19.790745Z"
    },
    "papermill": {
     "duration": 0.052039,
     "end_time": "2024-10-28T18:26:19.794293",
     "exception": false,
     "start_time": "2024-10-28T18:26:19.742254",
     "status": "completed"
    },
    "tags": []
   },
   "outputs": [],
   "source": [
    "for col in num_cols:\n",
    "    replace_with_thresholds(df,col)\n",
    "    "
   ]
  },
  {
   "cell_type": "code",
   "execution_count": 19,
   "id": "dab40d8c",
   "metadata": {
    "execution": {
     "iopub.execute_input": "2024-10-28T18:26:19.816251Z",
     "iopub.status.busy": "2024-10-28T18:26:19.815520Z",
     "iopub.status.idle": "2024-10-28T18:26:19.821185Z",
     "shell.execute_reply": "2024-10-28T18:26:19.819874Z"
    },
    "papermill": {
     "duration": 0.01905,
     "end_time": "2024-10-28T18:26:19.823487",
     "exception": false,
     "start_time": "2024-10-28T18:26:19.804437",
     "status": "completed"
    },
    "tags": []
   },
   "outputs": [],
   "source": [
    "\n",
    "def one_hot_encoder(dataframe, categorical_cols, drop_first=False):\n",
    "    dataframe = pd.get_dummies(dataframe, columns=categorical_cols, drop_first=drop_first)\n",
    "    return dataframe\n"
   ]
  },
  {
   "cell_type": "code",
   "execution_count": 20,
   "id": "cd6c82b1",
   "metadata": {
    "execution": {
     "iopub.execute_input": "2024-10-28T18:26:19.846099Z",
     "iopub.status.busy": "2024-10-28T18:26:19.844960Z",
     "iopub.status.idle": "2024-10-28T18:26:19.863681Z",
     "shell.execute_reply": "2024-10-28T18:26:19.862511Z"
    },
    "papermill": {
     "duration": 0.032672,
     "end_time": "2024-10-28T18:26:19.866353",
     "exception": false,
     "start_time": "2024-10-28T18:26:19.833681",
     "status": "completed"
    },
    "tags": []
   },
   "outputs": [],
   "source": [
    "df=one_hot_encoder(df,cat_cols,drop_first=True)\n"
   ]
  },
  {
   "cell_type": "code",
   "execution_count": 21,
   "id": "a745d393",
   "metadata": {
    "execution": {
     "iopub.execute_input": "2024-10-28T18:26:19.888356Z",
     "iopub.status.busy": "2024-10-28T18:26:19.887922Z",
     "iopub.status.idle": "2024-10-28T18:26:19.909946Z",
     "shell.execute_reply": "2024-10-28T18:26:19.908660Z"
    },
    "papermill": {
     "duration": 0.035896,
     "end_time": "2024-10-28T18:26:19.912400",
     "exception": false,
     "start_time": "2024-10-28T18:26:19.876504",
     "status": "completed"
    },
    "tags": []
   },
   "outputs": [
    {
     "name": "stdout",
     "output_type": "stream",
     "text": [
      "Observations: 19945\n",
      "Variables: 18\n",
      "cat_cols: 8\n",
      "num_cols: 9\n",
      "cat_but_car: 1\n",
      "num_but_cat: 8\n",
      "['order_num_total_ever_offline', 'order_channel_Desktop', 'order_channel_Ios App', 'order_channel_Mobile', 'last_order_channel_Desktop', 'last_order_channel_Ios App', 'last_order_channel_Mobile', 'last_order_channel_Offline']\n",
      "['first_order_date', 'last_order_date', 'last_order_date_online', 'last_order_date_offline', 'order_num_total_ever_online', 'customer_value_total_ever_offline', 'customer_value_total_ever_online', 'Tenure', 'ShoppingDays']\n",
      "['interested_in_categories_12']\n"
     ]
    }
   ],
   "source": [
    "cat_cols, num_cols, cat_but_car = grab_col_names(df, cat_th=5, car_th=20)\n",
    "print(cat_cols)\n",
    "print(num_cols)\n",
    "print(cat_but_car)"
   ]
  },
  {
   "cell_type": "code",
   "execution_count": 22,
   "id": "90031aaf",
   "metadata": {
    "execution": {
     "iopub.execute_input": "2024-10-28T18:26:19.934200Z",
     "iopub.status.busy": "2024-10-28T18:26:19.933768Z",
     "iopub.status.idle": "2024-10-28T18:26:19.943488Z",
     "shell.execute_reply": "2024-10-28T18:26:19.942417Z"
    },
    "papermill": {
     "duration": 0.023655,
     "end_time": "2024-10-28T18:26:19.946189",
     "exception": false,
     "start_time": "2024-10-28T18:26:19.922534",
     "status": "completed"
    },
    "tags": []
   },
   "outputs": [],
   "source": [
    "for i in cat_cols:\n",
    "    df[i]=df[i].astype(\"int\")"
   ]
  },
  {
   "cell_type": "code",
   "execution_count": 23,
   "id": "0c74220a",
   "metadata": {
    "execution": {
     "iopub.execute_input": "2024-10-28T18:26:19.968299Z",
     "iopub.status.busy": "2024-10-28T18:26:19.967900Z",
     "iopub.status.idle": "2024-10-28T18:26:19.982380Z",
     "shell.execute_reply": "2024-10-28T18:26:19.981159Z"
    },
    "papermill": {
     "duration": 0.028391,
     "end_time": "2024-10-28T18:26:19.984796",
     "exception": false,
     "start_time": "2024-10-28T18:26:19.956405",
     "status": "completed"
    },
    "tags": []
   },
   "outputs": [
    {
     "name": "stdout",
     "output_type": "stream",
     "text": [
      "<class 'pandas.core.frame.DataFrame'>\n",
      "RangeIndex: 19945 entries, 0 to 19944\n",
      "Data columns (total 18 columns):\n",
      " #   Column                             Non-Null Count  Dtype         \n",
      "---  ------                             --------------  -----         \n",
      " 0   first_order_date                   19945 non-null  datetime64[ns]\n",
      " 1   last_order_date                    19945 non-null  datetime64[ns]\n",
      " 2   last_order_date_online             19945 non-null  datetime64[ns]\n",
      " 3   last_order_date_offline            19945 non-null  datetime64[ns]\n",
      " 4   order_num_total_ever_online        19945 non-null  float64       \n",
      " 5   order_num_total_ever_offline       19945 non-null  int64         \n",
      " 6   customer_value_total_ever_offline  19945 non-null  float64       \n",
      " 7   customer_value_total_ever_online   19945 non-null  float64       \n",
      " 8   interested_in_categories_12        19945 non-null  object        \n",
      " 9   Tenure                             19945 non-null  float64       \n",
      " 10  ShoppingDays                       19945 non-null  float64       \n",
      " 11  order_channel_Desktop              19945 non-null  int64         \n",
      " 12  order_channel_Ios App              19945 non-null  int64         \n",
      " 13  order_channel_Mobile               19945 non-null  int64         \n",
      " 14  last_order_channel_Desktop         19945 non-null  int64         \n",
      " 15  last_order_channel_Ios App         19945 non-null  int64         \n",
      " 16  last_order_channel_Mobile          19945 non-null  int64         \n",
      " 17  last_order_channel_Offline         19945 non-null  int64         \n",
      "dtypes: datetime64[ns](4), float64(5), int64(8), object(1)\n",
      "memory usage: 2.7+ MB\n"
     ]
    }
   ],
   "source": [
    "df.info()"
   ]
  },
  {
   "cell_type": "code",
   "execution_count": 24,
   "id": "73f010ca",
   "metadata": {
    "execution": {
     "iopub.execute_input": "2024-10-28T18:26:20.007190Z",
     "iopub.status.busy": "2024-10-28T18:26:20.006539Z",
     "iopub.status.idle": "2024-10-28T18:26:20.028151Z",
     "shell.execute_reply": "2024-10-28T18:26:20.026817Z"
    },
    "papermill": {
     "duration": 0.03603,
     "end_time": "2024-10-28T18:26:20.030990",
     "exception": false,
     "start_time": "2024-10-28T18:26:19.994960",
     "status": "completed"
    },
    "tags": []
   },
   "outputs": [],
   "source": [
    "numeric_cols = df.select_dtypes(include=[np.number]).columns.tolist()\n",
    "ss=StandardScaler().fit_transform(df[numeric_cols])"
   ]
  },
  {
   "cell_type": "code",
   "execution_count": 25,
   "id": "24e22243",
   "metadata": {
    "execution": {
     "iopub.execute_input": "2024-10-28T18:26:20.054943Z",
     "iopub.status.busy": "2024-10-28T18:26:20.054454Z",
     "iopub.status.idle": "2024-10-28T18:26:50.124557Z",
     "shell.execute_reply": "2024-10-28T18:26:50.123221Z"
    },
    "papermill": {
     "duration": 30.095782,
     "end_time": "2024-10-28T18:26:50.137909",
     "exception": false,
     "start_time": "2024-10-28T18:26:20.042127",
     "status": "completed"
    },
    "tags": []
   },
   "outputs": [
    {
     "data": {
      "image/png": "[encoded data removed]",
      "text/plain": [
       "<Figure size 800x550 with 2 Axes>"
      ]
     },
     "metadata": {},
     "output_type": "display_data"
    },
    {
     "data": {
      "text/plain": [
       "8"
      ]
     },
     "execution_count": 25,
     "metadata": {},
     "output_type": "execute_result"
    }
   ],
   "source": [
    "kmeans = KMeans()\n",
    "elbow = KElbowVisualizer(kmeans, k=(2, 20))\n",
    "elbow.fit(ss)\n",
    "elbow.show()\n",
    "\n",
    "elbow.elbow_value_\n"
   ]
  },
  {
   "cell_type": "code",
   "execution_count": 26,
   "id": "f691e56a",
   "metadata": {
    "execution": {
     "iopub.execute_input": "2024-10-28T18:26:50.162994Z",
     "iopub.status.busy": "2024-10-28T18:26:50.162515Z",
     "iopub.status.idle": "2024-10-28T18:26:51.618317Z",
     "shell.execute_reply": "2024-10-28T18:26:51.617378Z"
    },
    "papermill": {
     "duration": 1.471599,
     "end_time": "2024-10-28T18:26:51.620951",
     "exception": false,
     "start_time": "2024-10-28T18:26:50.149352",
     "status": "completed"
    },
    "tags": []
   },
   "outputs": [],
   "source": [
    "kmeans = KMeans(n_clusters=elbow.elbow_value_).fit(ss)\n",
    "\n",
    "kmeans.n_clusters\n",
    "kmeans.cluster_centers_\n",
    "kmeans.labels_\n",
    "df[0:5]\n",
    "\n",
    "clusters_kmeans = kmeans.labels_"
   ]
  },
  {
   "cell_type": "code",
   "execution_count": 27,
   "id": "64fe278e",
   "metadata": {
    "execution": {
     "iopub.execute_input": "2024-10-28T18:26:51.645621Z",
     "iopub.status.busy": "2024-10-28T18:26:51.645185Z",
     "iopub.status.idle": "2024-10-28T18:26:51.667988Z",
     "shell.execute_reply": "2024-10-28T18:26:51.666883Z"
    },
    "papermill": {
     "duration": 0.037944,
     "end_time": "2024-10-28T18:26:51.670379",
     "exception": false,
     "start_time": "2024-10-28T18:26:51.632435",
     "status": "completed"
    },
    "tags": []
   },
   "outputs": [
    {
     "data": {
      "text/html": [
       "<div>\n",
       "<style scoped>\n",
       "    .dataframe tbody tr th:only-of-type {\n",
       "        vertical-align: middle;\n",
       "    }\n",
       "\n",
       "    .dataframe tbody tr th {\n",
       "        vertical-align: top;\n",
       "    }\n",
       "\n",
       "    .dataframe thead th {\n",
       "        text-align: right;\n",
       "    }\n",
       "</style>\n",
       "<table border=\"1\" class=\"dataframe\">\n",
       "  <thead>\n",
       "    <tr style=\"text-align: right;\">\n",
       "      <th></th>\n",
       "      <th>first_order_date</th>\n",
       "      <th>last_order_date</th>\n",
       "      <th>last_order_date_online</th>\n",
       "      <th>last_order_date_offline</th>\n",
       "      <th>order_num_total_ever_online</th>\n",
       "      <th>order_num_total_ever_offline</th>\n",
       "      <th>customer_value_total_ever_offline</th>\n",
       "      <th>customer_value_total_ever_online</th>\n",
       "      <th>interested_in_categories_12</th>\n",
       "      <th>Tenure</th>\n",
       "      <th>ShoppingDays</th>\n",
       "      <th>order_channel_Desktop</th>\n",
       "      <th>order_channel_Ios App</th>\n",
       "      <th>order_channel_Mobile</th>\n",
       "      <th>last_order_channel_Desktop</th>\n",
       "      <th>last_order_channel_Ios App</th>\n",
       "      <th>last_order_channel_Mobile</th>\n",
       "      <th>last_order_channel_Offline</th>\n",
       "      <th>cluster</th>\n",
       "    </tr>\n",
       "  </thead>\n",
       "  <tbody>\n",
       "    <tr>\n",
       "      <th>0</th>\n",
       "      <td>2020-10-30 00:00:00</td>\n",
       "      <td>2021-02-26</td>\n",
       "      <td>2021-02-21</td>\n",
       "      <td>2021-02-26</td>\n",
       "      <td>4.0</td>\n",
       "      <td>1</td>\n",
       "      <td>139.99</td>\n",
       "      <td>799.38</td>\n",
       "      <td>[KADIN]</td>\n",
       "      <td>214.0</td>\n",
       "      <td>95.0</td>\n",
       "      <td>0</td>\n",
       "      <td>0</td>\n",
       "      <td>0</td>\n",
       "      <td>0</td>\n",
       "      <td>0</td>\n",
       "      <td>0</td>\n",
       "      <td>1</td>\n",
       "      <td>2</td>\n",
       "    </tr>\n",
       "    <tr>\n",
       "      <th>1</th>\n",
       "      <td>2017-10-25 12:00:00</td>\n",
       "      <td>2021-02-16</td>\n",
       "      <td>2021-02-16</td>\n",
       "      <td>2020-01-10</td>\n",
       "      <td>8.5</td>\n",
       "      <td>2</td>\n",
       "      <td>159.97</td>\n",
       "      <td>1221.13</td>\n",
       "      <td>[ERKEK, COCUK, KADIN, AKTIFSPOR]</td>\n",
       "      <td>1314.5</td>\n",
       "      <td>105.0</td>\n",
       "      <td>0</td>\n",
       "      <td>0</td>\n",
       "      <td>0</td>\n",
       "      <td>0</td>\n",
       "      <td>0</td>\n",
       "      <td>1</td>\n",
       "      <td>0</td>\n",
       "      <td>3</td>\n",
       "    </tr>\n",
       "    <tr>\n",
       "      <th>2</th>\n",
       "      <td>2019-11-27 00:00:00</td>\n",
       "      <td>2020-11-27</td>\n",
       "      <td>2020-11-27</td>\n",
       "      <td>2019-12-01</td>\n",
       "      <td>3.0</td>\n",
       "      <td>2</td>\n",
       "      <td>189.97</td>\n",
       "      <td>395.35</td>\n",
       "      <td>[ERKEK, KADIN]</td>\n",
       "      <td>552.0</td>\n",
       "      <td>186.0</td>\n",
       "      <td>0</td>\n",
       "      <td>0</td>\n",
       "      <td>0</td>\n",
       "      <td>0</td>\n",
       "      <td>0</td>\n",
       "      <td>0</td>\n",
       "      <td>0</td>\n",
       "      <td>1</td>\n",
       "    </tr>\n",
       "    <tr>\n",
       "      <th>3</th>\n",
       "      <td>2021-01-06 00:00:00</td>\n",
       "      <td>2021-01-17</td>\n",
       "      <td>2021-01-17</td>\n",
       "      <td>2021-01-06</td>\n",
       "      <td>1.0</td>\n",
       "      <td>1</td>\n",
       "      <td>39.99</td>\n",
       "      <td>81.98</td>\n",
       "      <td>[AKTIFCOCUK, COCUK]</td>\n",
       "      <td>146.0</td>\n",
       "      <td>135.0</td>\n",
       "      <td>0</td>\n",
       "      <td>0</td>\n",
       "      <td>0</td>\n",
       "      <td>0</td>\n",
       "      <td>0</td>\n",
       "      <td>0</td>\n",
       "      <td>0</td>\n",
       "      <td>1</td>\n",
       "    </tr>\n",
       "    <tr>\n",
       "      <th>4</th>\n",
       "      <td>2019-08-03 00:00:00</td>\n",
       "      <td>2021-03-07</td>\n",
       "      <td>2021-03-07</td>\n",
       "      <td>2019-08-03</td>\n",
       "      <td>1.0</td>\n",
       "      <td>1</td>\n",
       "      <td>49.99</td>\n",
       "      <td>159.99</td>\n",
       "      <td>[AKTIFSPOR]</td>\n",
       "      <td>668.0</td>\n",
       "      <td>86.0</td>\n",
       "      <td>1</td>\n",
       "      <td>0</td>\n",
       "      <td>0</td>\n",
       "      <td>1</td>\n",
       "      <td>0</td>\n",
       "      <td>0</td>\n",
       "      <td>0</td>\n",
       "      <td>8</td>\n",
       "    </tr>\n",
       "  </tbody>\n",
       "</table>\n",
       "</div>"
      ],
      "text/plain": [
       "     first_order_date last_order_date last_order_date_online  \\\n",
       "0 2020-10-30 00:00:00      2021-02-26             2021-02-21   \n",
       "1 2017-10-25 12:00:00      2021-02-16             2021-02-16   \n",
       "2 2019-11-27 00:00:00      2020-11-27             2020-11-27   \n",
       "3 2021-01-06 00:00:00      2021-01-17             2021-01-17   \n",
       "4 2019-08-03 00:00:00      2021-03-07             2021-03-07   \n",
       "\n",
       "  last_order_date_offline  order_num_total_ever_online  \\\n",
       "0              2021-02-26                          4.0   \n",
       "1              2020-01-10                          8.5   \n",
       "2              2019-12-01                          3.0   \n",
       "3              2021-01-06                          1.0   \n",
       "4              2019-08-03                          1.0   \n",
       "\n",
       "   order_num_total_ever_offline  customer_value_total_ever_offline  \\\n",
       "0                             1                             139.99   \n",
       "1                             2                             159.97   \n",
       "2                             2                             189.97   \n",
       "3                             1                              39.99   \n",
       "4                             1                              49.99   \n",
       "\n",
       "   customer_value_total_ever_online       interested_in_categories_12  Tenure  \\\n",
       "0                            799.38                           [KADIN]   214.0   \n",
       "1                           1221.13  [ERKEK, COCUK, KADIN, AKTIFSPOR]  1314.5   \n",
       "2                            395.35                    [ERKEK, KADIN]   552.0   \n",
       "3                             81.98               [AKTIFCOCUK, COCUK]   146.0   \n",
       "4                            159.99                       [AKTIFSPOR]   668.0   \n",
       "\n",
       "   ShoppingDays  order_channel_Desktop  order_channel_Ios App  \\\n",
       "0          95.0                      0                      0   \n",
       "1         105.0                      0                      0   \n",
       "2         186.0                      0                      0   \n",
       "3         135.0                      0                      0   \n",
       "4          86.0                      1                      0   \n",
       "\n",
       "   order_channel_Mobile  last_order_channel_Desktop  \\\n",
       "0                     0                           0   \n",
       "1                     0                           0   \n",
       "2                     0                           0   \n",
       "3                     0                           0   \n",
       "4                     0                           1   \n",
       "\n",
       "   last_order_channel_Ios App  last_order_channel_Mobile  \\\n",
       "0                           0                          0   \n",
       "1                           0                          1   \n",
       "2                           0                          0   \n",
       "3                           0                          0   \n",
       "4                           0                          0   \n",
       "\n",
       "   last_order_channel_Offline  cluster  \n",
       "0                           1        2  \n",
       "1                           0        3  \n",
       "2                           0        1  \n",
       "3                           0        1  \n",
       "4                           0        8  "
      ]
     },
     "execution_count": 27,
     "metadata": {},
     "output_type": "execute_result"
    }
   ],
   "source": [
    "\n",
    "df[\"cluster\"] = clusters_kmeans\n",
    "df[\"cluster\"] = df[\"cluster\"] + 1\n",
    "\n",
    "df.head()"
   ]
  },
  {
   "cell_type": "code",
   "execution_count": 28,
   "id": "d764ca1c",
   "metadata": {
    "execution": {
     "iopub.execute_input": "2024-10-28T18:26:51.696664Z",
     "iopub.status.busy": "2024-10-28T18:26:51.696190Z",
     "iopub.status.idle": "2024-10-28T18:26:51.761905Z",
     "shell.execute_reply": "2024-10-28T18:26:51.760550Z"
    },
    "papermill": {
     "duration": 0.081598,
     "end_time": "2024-10-28T18:26:51.764462",
     "exception": false,
     "start_time": "2024-10-28T18:26:51.682864",
     "status": "completed"
    },
    "tags": []
   },
   "outputs": [
    {
     "data": {
      "text/html": [
       "<div>\n",
       "<style scoped>\n",
       "    .dataframe tbody tr th:only-of-type {\n",
       "        vertical-align: middle;\n",
       "    }\n",
       "\n",
       "    .dataframe tbody tr th {\n",
       "        vertical-align: top;\n",
       "    }\n",
       "\n",
       "    .dataframe thead tr th {\n",
       "        text-align: left;\n",
       "    }\n",
       "\n",
       "    .dataframe thead tr:last-of-type th {\n",
       "        text-align: right;\n",
       "    }\n",
       "</style>\n",
       "<table border=\"1\" class=\"dataframe\">\n",
       "  <thead>\n",
       "    <tr>\n",
       "      <th></th>\n",
       "      <th colspan=\"3\" halign=\"left\">order_num_total_ever_online</th>\n",
       "      <th colspan=\"3\" halign=\"left\">order_num_total_ever_offline</th>\n",
       "      <th colspan=\"3\" halign=\"left\">customer_value_total_ever_offline</th>\n",
       "      <th>customer_value_total_ever_online</th>\n",
       "      <th>...</th>\n",
       "      <th>last_order_channel_Desktop</th>\n",
       "      <th colspan=\"3\" halign=\"left\">last_order_channel_Ios App</th>\n",
       "      <th colspan=\"3\" halign=\"left\">last_order_channel_Mobile</th>\n",
       "      <th colspan=\"3\" halign=\"left\">last_order_channel_Offline</th>\n",
       "    </tr>\n",
       "    <tr>\n",
       "      <th></th>\n",
       "      <th>count</th>\n",
       "      <th>mean</th>\n",
       "      <th>median</th>\n",
       "      <th>count</th>\n",
       "      <th>mean</th>\n",
       "      <th>median</th>\n",
       "      <th>count</th>\n",
       "      <th>mean</th>\n",
       "      <th>median</th>\n",
       "      <th>count</th>\n",
       "      <th>...</th>\n",
       "      <th>median</th>\n",
       "      <th>count</th>\n",
       "      <th>mean</th>\n",
       "      <th>median</th>\n",
       "      <th>count</th>\n",
       "      <th>mean</th>\n",
       "      <th>median</th>\n",
       "      <th>count</th>\n",
       "      <th>mean</th>\n",
       "      <th>median</th>\n",
       "    </tr>\n",
       "    <tr>\n",
       "      <th>cluster</th>\n",
       "      <th></th>\n",
       "      <th></th>\n",
       "      <th></th>\n",
       "      <th></th>\n",
       "      <th></th>\n",
       "      <th></th>\n",
       "      <th></th>\n",
       "      <th></th>\n",
       "      <th></th>\n",
       "      <th></th>\n",
       "      <th></th>\n",
       "      <th></th>\n",
       "      <th></th>\n",
       "      <th></th>\n",
       "      <th></th>\n",
       "      <th></th>\n",
       "      <th></th>\n",
       "      <th></th>\n",
       "      <th></th>\n",
       "      <th></th>\n",
       "      <th></th>\n",
       "    </tr>\n",
       "  </thead>\n",
       "  <tbody>\n",
       "    <tr>\n",
       "      <th>1</th>\n",
       "      <td>4359</td>\n",
       "      <td>2.089011</td>\n",
       "      <td>2.0</td>\n",
       "      <td>4359</td>\n",
       "      <td>1.289745</td>\n",
       "      <td>1.0</td>\n",
       "      <td>4359</td>\n",
       "      <td>149.334646</td>\n",
       "      <td>122.980</td>\n",
       "      <td>4359</td>\n",
       "      <td>...</td>\n",
       "      <td>0.0</td>\n",
       "      <td>4359</td>\n",
       "      <td>0.0</td>\n",
       "      <td>0.0</td>\n",
       "      <td>4359</td>\n",
       "      <td>0.000000</td>\n",
       "      <td>0.0</td>\n",
       "      <td>4359</td>\n",
       "      <td>0.000000</td>\n",
       "      <td>0.0</td>\n",
       "    </tr>\n",
       "    <tr>\n",
       "      <th>2</th>\n",
       "      <td>2981</td>\n",
       "      <td>1.699430</td>\n",
       "      <td>1.0</td>\n",
       "      <td>2981</td>\n",
       "      <td>1.415968</td>\n",
       "      <td>1.0</td>\n",
       "      <td>2981</td>\n",
       "      <td>184.210939</td>\n",
       "      <td>164.980</td>\n",
       "      <td>2981</td>\n",
       "      <td>...</td>\n",
       "      <td>0.0</td>\n",
       "      <td>2981</td>\n",
       "      <td>0.0</td>\n",
       "      <td>0.0</td>\n",
       "      <td>2981</td>\n",
       "      <td>0.000000</td>\n",
       "      <td>0.0</td>\n",
       "      <td>2981</td>\n",
       "      <td>1.000000</td>\n",
       "      <td>1.0</td>\n",
       "    </tr>\n",
       "    <tr>\n",
       "      <th>3</th>\n",
       "      <td>2466</td>\n",
       "      <td>7.221614</td>\n",
       "      <td>8.0</td>\n",
       "      <td>2466</td>\n",
       "      <td>1.699919</td>\n",
       "      <td>1.0</td>\n",
       "      <td>2466</td>\n",
       "      <td>220.274680</td>\n",
       "      <td>170.455</td>\n",
       "      <td>2466</td>\n",
       "      <td>...</td>\n",
       "      <td>0.0</td>\n",
       "      <td>2466</td>\n",
       "      <td>0.0</td>\n",
       "      <td>0.0</td>\n",
       "      <td>2466</td>\n",
       "      <td>0.129359</td>\n",
       "      <td>0.0</td>\n",
       "      <td>2466</td>\n",
       "      <td>0.178021</td>\n",
       "      <td>0.0</td>\n",
       "    </tr>\n",
       "    <tr>\n",
       "      <th>4</th>\n",
       "      <td>2830</td>\n",
       "      <td>1.967491</td>\n",
       "      <td>1.0</td>\n",
       "      <td>2830</td>\n",
       "      <td>1.474558</td>\n",
       "      <td>1.0</td>\n",
       "      <td>2830</td>\n",
       "      <td>191.473314</td>\n",
       "      <td>142.350</td>\n",
       "      <td>2830</td>\n",
       "      <td>...</td>\n",
       "      <td>0.0</td>\n",
       "      <td>2830</td>\n",
       "      <td>0.0</td>\n",
       "      <td>0.0</td>\n",
       "      <td>2830</td>\n",
       "      <td>1.000000</td>\n",
       "      <td>1.0</td>\n",
       "      <td>2830</td>\n",
       "      <td>0.000000</td>\n",
       "      <td>0.0</td>\n",
       "    </tr>\n",
       "    <tr>\n",
       "      <th>5</th>\n",
       "      <td>1696</td>\n",
       "      <td>2.931014</td>\n",
       "      <td>2.0</td>\n",
       "      <td>1696</td>\n",
       "      <td>1.524175</td>\n",
       "      <td>1.0</td>\n",
       "      <td>1696</td>\n",
       "      <td>211.711156</td>\n",
       "      <td>159.990</td>\n",
       "      <td>1696</td>\n",
       "      <td>...</td>\n",
       "      <td>0.0</td>\n",
       "      <td>1696</td>\n",
       "      <td>1.0</td>\n",
       "      <td>1.0</td>\n",
       "      <td>1696</td>\n",
       "      <td>0.000000</td>\n",
       "      <td>0.0</td>\n",
       "      <td>1696</td>\n",
       "      <td>0.000000</td>\n",
       "      <td>0.0</td>\n",
       "    </tr>\n",
       "    <tr>\n",
       "      <th>6</th>\n",
       "      <td>2583</td>\n",
       "      <td>2.115950</td>\n",
       "      <td>2.0</td>\n",
       "      <td>2583</td>\n",
       "      <td>2.850949</td>\n",
       "      <td>3.0</td>\n",
       "      <td>2583</td>\n",
       "      <td>484.818091</td>\n",
       "      <td>490.470</td>\n",
       "      <td>2583</td>\n",
       "      <td>...</td>\n",
       "      <td>0.0</td>\n",
       "      <td>2583</td>\n",
       "      <td>0.0</td>\n",
       "      <td>0.0</td>\n",
       "      <td>2583</td>\n",
       "      <td>0.008904</td>\n",
       "      <td>0.0</td>\n",
       "      <td>2583</td>\n",
       "      <td>0.645374</td>\n",
       "      <td>1.0</td>\n",
       "    </tr>\n",
       "    <tr>\n",
       "      <th>7</th>\n",
       "      <td>1521</td>\n",
       "      <td>1.640368</td>\n",
       "      <td>1.0</td>\n",
       "      <td>1521</td>\n",
       "      <td>1.837607</td>\n",
       "      <td>2.0</td>\n",
       "      <td>1521</td>\n",
       "      <td>282.323531</td>\n",
       "      <td>239.990</td>\n",
       "      <td>1521</td>\n",
       "      <td>...</td>\n",
       "      <td>0.0</td>\n",
       "      <td>1521</td>\n",
       "      <td>0.0</td>\n",
       "      <td>0.0</td>\n",
       "      <td>1521</td>\n",
       "      <td>0.000000</td>\n",
       "      <td>0.0</td>\n",
       "      <td>1521</td>\n",
       "      <td>1.000000</td>\n",
       "      <td>1.0</td>\n",
       "    </tr>\n",
       "    <tr>\n",
       "      <th>8</th>\n",
       "      <td>1509</td>\n",
       "      <td>2.500000</td>\n",
       "      <td>2.0</td>\n",
       "      <td>1509</td>\n",
       "      <td>1.509609</td>\n",
       "      <td>1.0</td>\n",
       "      <td>1509</td>\n",
       "      <td>205.609476</td>\n",
       "      <td>150.730</td>\n",
       "      <td>1509</td>\n",
       "      <td>...</td>\n",
       "      <td>1.0</td>\n",
       "      <td>1509</td>\n",
       "      <td>0.0</td>\n",
       "      <td>0.0</td>\n",
       "      <td>1509</td>\n",
       "      <td>0.000000</td>\n",
       "      <td>0.0</td>\n",
       "      <td>1509</td>\n",
       "      <td>0.000000</td>\n",
       "      <td>0.0</td>\n",
       "    </tr>\n",
       "  </tbody>\n",
       "</table>\n",
       "<p>8 rows × 39 columns</p>\n",
       "</div>"
      ],
      "text/plain": [
       "        order_num_total_ever_online                   \\\n",
       "                              count      mean median   \n",
       "cluster                                                \n",
       "1                              4359  2.089011    2.0   \n",
       "2                              2981  1.699430    1.0   \n",
       "3                              2466  7.221614    8.0   \n",
       "4                              2830  1.967491    1.0   \n",
       "5                              1696  2.931014    2.0   \n",
       "6                              2583  2.115950    2.0   \n",
       "7                              1521  1.640368    1.0   \n",
       "8                              1509  2.500000    2.0   \n",
       "\n",
       "        order_num_total_ever_offline                   \\\n",
       "                               count      mean median   \n",
       "cluster                                                 \n",
       "1                               4359  1.289745    1.0   \n",
       "2                               2981  1.415968    1.0   \n",
       "3                               2466  1.699919    1.0   \n",
       "4                               2830  1.474558    1.0   \n",
       "5                               1696  1.524175    1.0   \n",
       "6                               2583  2.850949    3.0   \n",
       "7                               1521  1.837607    2.0   \n",
       "8                               1509  1.509609    1.0   \n",
       "\n",
       "        customer_value_total_ever_offline                       \\\n",
       "                                    count        mean   median   \n",
       "cluster                                                          \n",
       "1                                    4359  149.334646  122.980   \n",
       "2                                    2981  184.210939  164.980   \n",
       "3                                    2466  220.274680  170.455   \n",
       "4                                    2830  191.473314  142.350   \n",
       "5                                    1696  211.711156  159.990   \n",
       "6                                    2583  484.818091  490.470   \n",
       "7                                    1521  282.323531  239.990   \n",
       "8                                    1509  205.609476  150.730   \n",
       "\n",
       "        customer_value_total_ever_online  ... last_order_channel_Desktop  \\\n",
       "                                   count  ...                     median   \n",
       "cluster                                   ...                              \n",
       "1                                   4359  ...                        0.0   \n",
       "2                                   2981  ...                        0.0   \n",
       "3                                   2466  ...                        0.0   \n",
       "4                                   2830  ...                        0.0   \n",
       "5                                   1696  ...                        0.0   \n",
       "6                                   2583  ...                        0.0   \n",
       "7                                   1521  ...                        0.0   \n",
       "8                                   1509  ...                        1.0   \n",
       "\n",
       "        last_order_channel_Ios App             last_order_channel_Mobile  \\\n",
       "                             count mean median                     count   \n",
       "cluster                                                                    \n",
       "1                             4359  0.0    0.0                      4359   \n",
       "2                             2981  0.0    0.0                      2981   \n",
       "3                             2466  0.0    0.0                      2466   \n",
       "4                             2830  0.0    0.0                      2830   \n",
       "5                             1696  1.0    1.0                      1696   \n",
       "6                             2583  0.0    0.0                      2583   \n",
       "7                             1521  0.0    0.0                      1521   \n",
       "8                             1509  0.0    0.0                      1509   \n",
       "\n",
       "                         last_order_channel_Offline                   \n",
       "             mean median                      count      mean median  \n",
       "cluster                                                               \n",
       "1        0.000000    0.0                       4359  0.000000    0.0  \n",
       "2        0.000000    0.0                       2981  1.000000    1.0  \n",
       "3        0.129359    0.0                       2466  0.178021    0.0  \n",
       "4        1.000000    1.0                       2830  0.000000    0.0  \n",
       "5        0.000000    0.0                       1696  0.000000    0.0  \n",
       "6        0.008904    0.0                       2583  0.645374    1.0  \n",
       "7        0.000000    0.0                       1521  1.000000    1.0  \n",
       "8        0.000000    0.0                       1509  0.000000    0.0  \n",
       "\n",
       "[8 rows x 39 columns]"
      ]
     },
     "execution_count": 28,
     "metadata": {},
     "output_type": "execute_result"
    }
   ],
   "source": [
    "df.groupby(\"cluster\")[numeric_cols].agg([\"count\",\"mean\",\"median\"])"
   ]
  },
  {
   "cell_type": "markdown",
   "id": "45f56a01",
   "metadata": {
    "papermill": {
     "duration": 0.012118,
     "end_time": "2024-10-28T18:26:51.789009",
     "exception": false,
     "start_time": "2024-10-28T18:26:51.776891",
     "status": "completed"
    },
    "tags": []
   },
   "source": [
    "**Hierarchical Clustering**"
   ]
  },
  {
   "cell_type": "code",
   "execution_count": 29,
   "id": "e41ae3a3",
   "metadata": {
    "execution": {
     "iopub.execute_input": "2024-10-28T18:26:51.815723Z",
     "iopub.status.busy": "2024-10-28T18:26:51.815108Z",
     "iopub.status.idle": "2024-10-28T18:27:27.771777Z",
     "shell.execute_reply": "2024-10-28T18:27:27.770520Z"
    },
    "papermill": {
     "duration": 35.986257,
     "end_time": "2024-10-28T18:27:27.787641",
     "exception": false,
     "start_time": "2024-10-28T18:26:51.801384",
     "status": "completed"
    },
    "tags": []
   },
   "outputs": [
    {
     "data": {
      "image/png": "[encoded data removed]",
      "text/plain": [
       "<Figure size 1000x800 with 1 Axes>"
      ]
     },
     "metadata": {},
     "output_type": "display_data"
    }
   ],
   "source": [
    "hc_average = linkage(ss, \"average\") ##linkage -- birleştirici yöntemdir.\n",
    "plt.figure(figsize=(10, 8))\n",
    "plt.title(\"Hiyerarşik Kümeleme Dendogramı\")\n",
    "plt.xlabel(\"Gözlem Birimleri\")\n",
    "plt.ylabel(\"Uzaklıklar\")\n",
    "dendrogram(hc_average,\n",
    "           truncate_mode=\"lastp\",\n",
    "           p=30,\n",
    "           show_contracted=True,\n",
    "           leaf_font_size=10)\n",
    "\n",
    "plt.title('Hierarchical Clustering Dendrogram', fontsize=12)\n",
    "plt.xlabel('Observations', fontsize=10)\n",
    "plt.ylabel('Distance', fontsize=10)\n",
    "\n",
    "# Adding cut-off lines\n",
    "plt.axhline(y=200, color='r', linestyle='--', linewidth=2, label='Cut-off Line 1')\n",
    "plt.axhline(y=180, color='b', linestyle='--', linewidth=2, label='Cut-off Line 2')\n",
    "\n",
    "# Displaying the legend\n",
    "plt.legend(loc='upper right')\n",
    "plt.show();"
   ]
  },
  {
   "cell_type": "code",
   "execution_count": 30,
   "id": "228e6049",
   "metadata": {
    "execution": {
     "iopub.execute_input": "2024-10-28T18:27:27.816908Z",
     "iopub.status.busy": "2024-10-28T18:27:27.816177Z",
     "iopub.status.idle": "2024-10-28T18:27:54.495300Z",
     "shell.execute_reply": "2024-10-28T18:27:54.494080Z"
    },
    "papermill": {
     "duration": 26.696882,
     "end_time": "2024-10-28T18:27:54.498208",
     "exception": false,
     "start_time": "2024-10-28T18:27:27.801326",
     "status": "completed"
    },
    "tags": []
   },
   "outputs": [],
   "source": [
    "from sklearn.cluster import AgglomerativeClustering\n",
    "\n",
    "cluster = AgglomerativeClustering(n_clusters=5, linkage=\"average\")\n",
    "\n",
    "clusters = cluster.fit_predict(ss)"
   ]
  },
  {
   "cell_type": "code",
   "execution_count": 31,
   "id": "9ff9701f",
   "metadata": {
    "execution": {
     "iopub.execute_input": "2024-10-28T18:27:54.529206Z",
     "iopub.status.busy": "2024-10-28T18:27:54.528358Z",
     "iopub.status.idle": "2024-10-28T18:27:54.535795Z",
     "shell.execute_reply": "2024-10-28T18:27:54.534678Z"
    },
    "papermill": {
     "duration": 0.02563,
     "end_time": "2024-10-28T18:27:54.538247",
     "exception": false,
     "start_time": "2024-10-28T18:27:54.512617",
     "status": "completed"
    },
    "tags": []
   },
   "outputs": [],
   "source": [
    "df[\"hi_cluster_no\"] = clusters\n",
    "\n",
    "df[\"hi_cluster_no\"] = df[\"hi_cluster_no\"] + 1"
   ]
  },
  {
   "cell_type": "code",
   "execution_count": 32,
   "id": "a4be82c7",
   "metadata": {
    "execution": {
     "iopub.execute_input": "2024-10-28T18:27:54.568438Z",
     "iopub.status.busy": "2024-10-28T18:27:54.568004Z",
     "iopub.status.idle": "2024-10-28T18:27:54.589435Z",
     "shell.execute_reply": "2024-10-28T18:27:54.588324Z"
    },
    "papermill": {
     "duration": 0.04006,
     "end_time": "2024-10-28T18:27:54.592188",
     "exception": false,
     "start_time": "2024-10-28T18:27:54.552128",
     "status": "completed"
    },
    "tags": []
   },
   "outputs": [
    {
     "data": {
      "text/html": [
       "<div>\n",
       "<style scoped>\n",
       "    .dataframe tbody tr th:only-of-type {\n",
       "        vertical-align: middle;\n",
       "    }\n",
       "\n",
       "    .dataframe tbody tr th {\n",
       "        vertical-align: top;\n",
       "    }\n",
       "\n",
       "    .dataframe thead th {\n",
       "        text-align: right;\n",
       "    }\n",
       "</style>\n",
       "<table border=\"1\" class=\"dataframe\">\n",
       "  <thead>\n",
       "    <tr style=\"text-align: right;\">\n",
       "      <th></th>\n",
       "      <th>first_order_date</th>\n",
       "      <th>last_order_date</th>\n",
       "      <th>last_order_date_online</th>\n",
       "      <th>last_order_date_offline</th>\n",
       "      <th>order_num_total_ever_online</th>\n",
       "      <th>order_num_total_ever_offline</th>\n",
       "      <th>customer_value_total_ever_offline</th>\n",
       "      <th>customer_value_total_ever_online</th>\n",
       "      <th>interested_in_categories_12</th>\n",
       "      <th>Tenure</th>\n",
       "      <th>ShoppingDays</th>\n",
       "      <th>order_channel_Desktop</th>\n",
       "      <th>order_channel_Ios App</th>\n",
       "      <th>order_channel_Mobile</th>\n",
       "      <th>last_order_channel_Desktop</th>\n",
       "      <th>last_order_channel_Ios App</th>\n",
       "      <th>last_order_channel_Mobile</th>\n",
       "      <th>last_order_channel_Offline</th>\n",
       "      <th>cluster</th>\n",
       "      <th>hi_cluster_no</th>\n",
       "    </tr>\n",
       "  </thead>\n",
       "  <tbody>\n",
       "    <tr>\n",
       "      <th>0</th>\n",
       "      <td>2020-10-30 00:00:00</td>\n",
       "      <td>2021-02-26</td>\n",
       "      <td>2021-02-21</td>\n",
       "      <td>2021-02-26</td>\n",
       "      <td>4.0</td>\n",
       "      <td>1</td>\n",
       "      <td>139.99</td>\n",
       "      <td>799.38</td>\n",
       "      <td>[KADIN]</td>\n",
       "      <td>214.0</td>\n",
       "      <td>95.0</td>\n",
       "      <td>0</td>\n",
       "      <td>0</td>\n",
       "      <td>0</td>\n",
       "      <td>0</td>\n",
       "      <td>0</td>\n",
       "      <td>0</td>\n",
       "      <td>1</td>\n",
       "      <td>2</td>\n",
       "      <td>1</td>\n",
       "    </tr>\n",
       "    <tr>\n",
       "      <th>1</th>\n",
       "      <td>2017-10-25 12:00:00</td>\n",
       "      <td>2021-02-16</td>\n",
       "      <td>2021-02-16</td>\n",
       "      <td>2020-01-10</td>\n",
       "      <td>8.5</td>\n",
       "      <td>2</td>\n",
       "      <td>159.97</td>\n",
       "      <td>1221.13</td>\n",
       "      <td>[ERKEK, COCUK, KADIN, AKTIFSPOR]</td>\n",
       "      <td>1314.5</td>\n",
       "      <td>105.0</td>\n",
       "      <td>0</td>\n",
       "      <td>0</td>\n",
       "      <td>0</td>\n",
       "      <td>0</td>\n",
       "      <td>0</td>\n",
       "      <td>1</td>\n",
       "      <td>0</td>\n",
       "      <td>3</td>\n",
       "      <td>1</td>\n",
       "    </tr>\n",
       "    <tr>\n",
       "      <th>2</th>\n",
       "      <td>2019-11-27 00:00:00</td>\n",
       "      <td>2020-11-27</td>\n",
       "      <td>2020-11-27</td>\n",
       "      <td>2019-12-01</td>\n",
       "      <td>3.0</td>\n",
       "      <td>2</td>\n",
       "      <td>189.97</td>\n",
       "      <td>395.35</td>\n",
       "      <td>[ERKEK, KADIN]</td>\n",
       "      <td>552.0</td>\n",
       "      <td>186.0</td>\n",
       "      <td>0</td>\n",
       "      <td>0</td>\n",
       "      <td>0</td>\n",
       "      <td>0</td>\n",
       "      <td>0</td>\n",
       "      <td>0</td>\n",
       "      <td>0</td>\n",
       "      <td>1</td>\n",
       "      <td>1</td>\n",
       "    </tr>\n",
       "    <tr>\n",
       "      <th>3</th>\n",
       "      <td>2021-01-06 00:00:00</td>\n",
       "      <td>2021-01-17</td>\n",
       "      <td>2021-01-17</td>\n",
       "      <td>2021-01-06</td>\n",
       "      <td>1.0</td>\n",
       "      <td>1</td>\n",
       "      <td>39.99</td>\n",
       "      <td>81.98</td>\n",
       "      <td>[AKTIFCOCUK, COCUK]</td>\n",
       "      <td>146.0</td>\n",
       "      <td>135.0</td>\n",
       "      <td>0</td>\n",
       "      <td>0</td>\n",
       "      <td>0</td>\n",
       "      <td>0</td>\n",
       "      <td>0</td>\n",
       "      <td>0</td>\n",
       "      <td>0</td>\n",
       "      <td>1</td>\n",
       "      <td>1</td>\n",
       "    </tr>\n",
       "    <tr>\n",
       "      <th>4</th>\n",
       "      <td>2019-08-03 00:00:00</td>\n",
       "      <td>2021-03-07</td>\n",
       "      <td>2021-03-07</td>\n",
       "      <td>2019-08-03</td>\n",
       "      <td>1.0</td>\n",
       "      <td>1</td>\n",
       "      <td>49.99</td>\n",
       "      <td>159.99</td>\n",
       "      <td>[AKTIFSPOR]</td>\n",
       "      <td>668.0</td>\n",
       "      <td>86.0</td>\n",
       "      <td>1</td>\n",
       "      <td>0</td>\n",
       "      <td>0</td>\n",
       "      <td>1</td>\n",
       "      <td>0</td>\n",
       "      <td>0</td>\n",
       "      <td>0</td>\n",
       "      <td>8</td>\n",
       "      <td>3</td>\n",
       "    </tr>\n",
       "  </tbody>\n",
       "</table>\n",
       "</div>"
      ],
      "text/plain": [
       "     first_order_date last_order_date last_order_date_online  \\\n",
       "0 2020-10-30 00:00:00      2021-02-26             2021-02-21   \n",
       "1 2017-10-25 12:00:00      2021-02-16             2021-02-16   \n",
       "2 2019-11-27 00:00:00      2020-11-27             2020-11-27   \n",
       "3 2021-01-06 00:00:00      2021-01-17             2021-01-17   \n",
       "4 2019-08-03 00:00:00      2021-03-07             2021-03-07   \n",
       "\n",
       "  last_order_date_offline  order_num_total_ever_online  \\\n",
       "0              2021-02-26                          4.0   \n",
       "1              2020-01-10                          8.5   \n",
       "2              2019-12-01                          3.0   \n",
       "3              2021-01-06                          1.0   \n",
       "4              2019-08-03                          1.0   \n",
       "\n",
       "   order_num_total_ever_offline  customer_value_total_ever_offline  \\\n",
       "0                             1                             139.99   \n",
       "1                             2                             159.97   \n",
       "2                             2                             189.97   \n",
       "3                             1                              39.99   \n",
       "4                             1                              49.99   \n",
       "\n",
       "   customer_value_total_ever_online       interested_in_categories_12  Tenure  \\\n",
       "0                            799.38                           [KADIN]   214.0   \n",
       "1                           1221.13  [ERKEK, COCUK, KADIN, AKTIFSPOR]  1314.5   \n",
       "2                            395.35                    [ERKEK, KADIN]   552.0   \n",
       "3                             81.98               [AKTIFCOCUK, COCUK]   146.0   \n",
       "4                            159.99                       [AKTIFSPOR]   668.0   \n",
       "\n",
       "   ShoppingDays  order_channel_Desktop  order_channel_Ios App  \\\n",
       "0          95.0                      0                      0   \n",
       "1         105.0                      0                      0   \n",
       "2         186.0                      0                      0   \n",
       "3         135.0                      0                      0   \n",
       "4          86.0                      1                      0   \n",
       "\n",
       "   order_channel_Mobile  last_order_channel_Desktop  \\\n",
       "0                     0                           0   \n",
       "1                     0                           0   \n",
       "2                     0                           0   \n",
       "3                     0                           0   \n",
       "4                     0                           1   \n",
       "\n",
       "   last_order_channel_Ios App  last_order_channel_Mobile  \\\n",
       "0                           0                          0   \n",
       "1                           0                          1   \n",
       "2                           0                          0   \n",
       "3                           0                          0   \n",
       "4                           0                          0   \n",
       "\n",
       "   last_order_channel_Offline  cluster  hi_cluster_no  \n",
       "0                           1        2              1  \n",
       "1                           0        3              1  \n",
       "2                           0        1              1  \n",
       "3                           0        1              1  \n",
       "4                           0        8              3  "
      ]
     },
     "execution_count": 32,
     "metadata": {},
     "output_type": "execute_result"
    }
   ],
   "source": [
    "df.head()"
   ]
  },
  {
   "cell_type": "code",
   "execution_count": null,
   "id": "23ef8445",
   "metadata": {
    "papermill": {
     "duration": 0.014072,
     "end_time": "2024-10-28T18:27:54.620763",
     "exception": false,
     "start_time": "2024-10-28T18:27:54.606691",
     "status": "completed"
    },
    "tags": []
   },
   "outputs": [],
   "source": []
  }
 ],
 "metadata": {
  "kaggle": {
   "accelerator": "none",
   "dataSources": [
    {
     "datasetId": 5661220,
     "sourceId": 9341418,
     "sourceType": "datasetVersion"
    }
   ],
   "dockerImageVersionId": 30786,
   "isGpuEnabled": false,
   "isInternetEnabled": true,
   "language": "python",
   "sourceType": "notebook"
  },
  "kernelspec": {
   "display_name": "Python 3",
   "language": "python",
   "name": "python3"
  },
  "language_info": {
   "codemirror_mode": {
    "name": "ipython",
    "version": 3
   },
   "file_extension": ".py",
   "mimetype": "text/x-python",
   "name": "python",
   "nbconvert_exporter": "python",
   "pygments_lexer": "ipython3",
   "version": "3.10.14"
  },
  "papermill": {
   "default_parameters": {},
   "duration": 103.887761,
   "end_time": "2024-10-28T18:27:55.558717",
   "environment_variables": {},
   "exception": null,
   "input_path": "__notebook__.ipynb",
   "output_path": "__notebook__.ipynb",
   "parameters": {},
   "start_time": "2024-10-28T18:26:11.670956",
   "version": "2.6.0"
  }
 },
 "nbformat": 4,
 "nbformat_minor": 5
}
